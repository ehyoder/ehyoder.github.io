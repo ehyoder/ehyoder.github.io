{
 "cells": [
  {
   "cell_type": "code",
   "execution_count": 1,
   "metadata": {},
   "outputs": [],
   "source": [
    "import pandas as pd"
   ]
  },
  {
   "cell_type": "code",
   "execution_count": null,
   "metadata": {},
   "outputs": [],
   "source": [
    "# Data source = https://catalog.data.gov/dataset/under-age-65-disability-diagnoses-of-supplemental-security-income-ssi-recipients-by-census\n",
    "# Addtional information = https://www.ssa.gov/policy/docs/data/ssi-2010/SSI-2010-User-Manual.pdf"
   ]
  },
  {
   "cell_type": "code",
   "execution_count": 3,
   "metadata": {},
   "outputs": [],
   "source": [
    "# File path for first csv \n",
    "ssi_data = \"ssi_data.csv\"\n",
    "# Read our first csv into Pandas as a dataframe \n",
    "ssi_data_df = pd.read_csv(ssi_data)"
   ]
  },
  {
   "cell_type": "code",
   "execution_count": 10,
   "metadata": {},
   "outputs": [],
   "source": [
    "#ssi_data_df.head(100)"
   ]
  },
  {
   "cell_type": "code",
   "execution_count": 12,
   "metadata": {},
   "outputs": [
    {
     "data": {
      "text/plain": [
       "Index(['CENSUS REGION', 'DIAG. GROUP', 'AGE  ', 'SEX', 'RECIPIENTS'], dtype='object')"
      ]
     },
     "execution_count": 12,
     "metadata": {},
     "output_type": "execute_result"
    }
   ],
   "source": [
    "# Inspect for column names\n",
    "ssi_data_df.columns"
   ]
  },
  {
   "cell_type": "code",
   "execution_count": 15,
   "metadata": {},
   "outputs": [
    {
     "name": "stdout",
     "output_type": "stream",
     "text": [
      "<bound method GroupBy.mean of <pandas.core.groupby.DataFrameGroupBy object at 0x0000000008D105C0>>\n"
     ]
    }
   ],
   "source": [
    "regional_data = ssi_data_df.groupby(\"CENSUS REGION\").mean\n",
    "print(regional_data)"
   ]
  },
  {
   "cell_type": "code",
   "execution_count": null,
   "metadata": {},
   "outputs": [],
   "source": []
  }
 ],
 "metadata": {
  "kernelspec": {
   "display_name": "Python 3",
   "language": "python",
   "name": "python3"
  },
  "language_info": {
   "codemirror_mode": {
    "name": "ipython",
    "version": 3
   },
   "file_extension": ".py",
   "mimetype": "text/x-python",
   "name": "python",
   "nbconvert_exporter": "python",
   "pygments_lexer": "ipython3",
   "version": "3.6.4"
  }
 },
 "nbformat": 4,
 "nbformat_minor": 2
}
